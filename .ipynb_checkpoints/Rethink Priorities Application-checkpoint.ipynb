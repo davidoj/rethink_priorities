{
 "cells": [
  {
   "cell_type": "markdown",
   "metadata": {},
   "source": [
    "# Rethink Priorities Skills Assessment\n",
    "\n",
    "\n",
    "I want to consider some questions and log some hypotheses before I look at the data. Actually, though, I already clicked on the link and looked at the sheet so I'm not properly blink. Anyway, here are some questions and hypotheses:\n",
    "\n",
    " - What's the distribution of \"when did you join EA?\" I'm highly confident there will be fewer from 2015 than from 2016 etc. People who join will dropout over time. I also expect that the movement is growing, for example the [2019](https://files.givewell.org/files/metrics/GiveWell_Metrics_Report_2019.pdf) and [2018](https://files.givewell.org/files/metrics/GiveWell_Metrics_Report_2019.pdf) givewell reports indicate a growing number of donors from 2016 through 2019. I lean towards expecting that people who have been involved for more than 1 year are more likely to stay for additional years than people who have not yet been involved for 1 year, so the drop from the most recent to the second most recent year may be larger in percentage terms than between other years.\n",
    " - Are most non-student participants student recruits who have persisted or non-student recruits? This isn't totally resolvable with the given data, but we can get some evidence if we make assumptions about stability of new recruit demographics. My guess is 55% yes.\n",
    " - Does self-rated level of involvement correlate with time involved? I 75% expect it does. People who are highly involved should be more likely to stay involved. Furthermore, people who have been involved longer have probably found more ways to be involved. I expect the correlation to be weaker if most people who answer the survey remain involved for many years. If these are not strongly correlated, my best guess is that individual people's \"self-rated level of involvement\" may vary a lot over time.\n",
    " - How much diversity is there in cause prioritisation? I lean towards (60%) expecting that 1-2 causes capture the majority of top priorities because I expect that most people become engaged with Effective Altruism are already interested in a particular cause, and I expect some causes to be much more popular in the communities EA recruits from.\n",
    "     - Are there \"cause clusters\"? There might be because e.g. people who have joined EA because of shared interest in a particular cause might have a different pattern of cause priority to people who have been in EA a long time and have thought about cause prioritisation informed by other EA work. OTOH there could easily be about as many different ways to prioritise causes as there are causes surveyed, so I'm about 51% on this.\n",
    " - Are there differences in cause priortisation between people who have just joined and people who have been involved for a long time? I have some expectation (60%) that people who have been engaged longer will be more likely to prioritise \"longtermist\"  causes over \"helping people here and now\" causes because longtermism is something many people are introduced to after meeting EA. I think longtermist causes here would be asteroid collisions, nuclear war and pandemic preparedness. I also think mental health might fall into the category of \"causes people drift towards over time\", as understanding how best to help people flourish seems like an important long-term question, even if advances can also help people here and now.\n",
    "     - Similarly for high vs low engagement"
   ]
  },
  {
   "cell_type": "markdown",
   "metadata": {},
   "source": [
    "## Let's have a look at the data\n",
    "\n",
    "You have to run the cells in order"
   ]
  },
  {
   "cell_type": "code",
   "execution_count": 95,
   "metadata": {},
   "outputs": [],
   "source": [
    "import pandas as pd\n",
    "import seaborn as sns\n",
    "import numpy as np\n",
    "import matplotlib.pyplot as plt\n",
    "from sklearn.decomposition import PCA\n",
    "import pingouin\n",
    "\n",
    "import jax.numpy as jnp\n",
    "from jax import random, vmap\n",
    "\n",
    "import numpyro\n",
    "import numpyro.distributions as dist\n",
    "from numpyro.infer import MCMC, NUTS\n",
    "\n",
    "assert numpyro.__version__.startswith('0.3.0')"
   ]
  },
  {
   "cell_type": "code",
   "execution_count": 96,
   "metadata": {},
   "outputs": [
    {
     "data": {
      "text/html": [
       "<div>\n",
       "<style scoped>\n",
       "    .dataframe tbody tr th:only-of-type {\n",
       "        vertical-align: middle;\n",
       "    }\n",
       "\n",
       "    .dataframe tbody tr th {\n",
       "        vertical-align: top;\n",
       "    }\n",
       "\n",
       "    .dataframe thead th {\n",
       "        text-align: right;\n",
       "    }\n",
       "</style>\n",
       "<table border=\"1\" class=\"dataframe\">\n",
       "  <thead>\n",
       "    <tr style=\"text-align: right;\">\n",
       "      <th></th>\n",
       "      <th>student</th>\n",
       "      <th>Global Poverty</th>\n",
       "      <th>Homelessness</th>\n",
       "      <th>Mental health</th>\n",
       "      <th>Asteroid collisions</th>\n",
       "      <th>Nuclear warfare</th>\n",
       "      <th>Pandemic preparedness</th>\n",
       "      <th>Engagement</th>\n",
       "      <th>Region</th>\n",
       "      <th>When joined EA</th>\n",
       "    </tr>\n",
       "    <tr>\n",
       "      <th>subject</th>\n",
       "      <th></th>\n",
       "      <th></th>\n",
       "      <th></th>\n",
       "      <th></th>\n",
       "      <th></th>\n",
       "      <th></th>\n",
       "      <th></th>\n",
       "      <th></th>\n",
       "      <th></th>\n",
       "      <th></th>\n",
       "    </tr>\n",
       "  </thead>\n",
       "  <tbody>\n",
       "    <tr>\n",
       "      <th>1</th>\n",
       "      <td>0</td>\n",
       "      <td>4</td>\n",
       "      <td>5</td>\n",
       "      <td>4</td>\n",
       "      <td>5</td>\n",
       "      <td>5</td>\n",
       "      <td>5</td>\n",
       "      <td>(3) Moderate engagement</td>\n",
       "      <td>USA/Canada</td>\n",
       "      <td>2019 or later</td>\n",
       "    </tr>\n",
       "    <tr>\n",
       "      <th>2</th>\n",
       "      <td>1</td>\n",
       "      <td>5</td>\n",
       "      <td>5</td>\n",
       "      <td>5</td>\n",
       "      <td>4</td>\n",
       "      <td>4</td>\n",
       "      <td>3</td>\n",
       "      <td>(2) Mild engagement</td>\n",
       "      <td>USA/Canada</td>\n",
       "      <td>2018</td>\n",
       "    </tr>\n",
       "    <tr>\n",
       "      <th>3</th>\n",
       "      <td>1</td>\n",
       "      <td>5</td>\n",
       "      <td>6</td>\n",
       "      <td>4</td>\n",
       "      <td>3</td>\n",
       "      <td>4</td>\n",
       "      <td>5</td>\n",
       "      <td>(3) Moderate engagement</td>\n",
       "      <td>Rest of world</td>\n",
       "      <td>2019 or later</td>\n",
       "    </tr>\n",
       "    <tr>\n",
       "      <th>4</th>\n",
       "      <td>0</td>\n",
       "      <td>6</td>\n",
       "      <td>6</td>\n",
       "      <td>4</td>\n",
       "      <td>2</td>\n",
       "      <td>3</td>\n",
       "      <td>4</td>\n",
       "      <td>(2) Mild engagement</td>\n",
       "      <td>USA/Canada</td>\n",
       "      <td>2017</td>\n",
       "    </tr>\n",
       "    <tr>\n",
       "      <th>5</th>\n",
       "      <td>1</td>\n",
       "      <td>5</td>\n",
       "      <td>4</td>\n",
       "      <td>2</td>\n",
       "      <td>4</td>\n",
       "      <td>4</td>\n",
       "      <td>4</td>\n",
       "      <td>(4) Considerable engagement</td>\n",
       "      <td>USA/Canada</td>\n",
       "      <td>2019 or later</td>\n",
       "    </tr>\n",
       "  </tbody>\n",
       "</table>\n",
       "</div>"
      ],
      "text/plain": [
       "         student Global Poverty Homelessness Mental health  \\\n",
       "subject                                                      \n",
       "1              0              4            5             4   \n",
       "2              1              5            5             5   \n",
       "3              1              5            6             4   \n",
       "4              0              6            6             4   \n",
       "5              1              5            4             2   \n",
       "\n",
       "        Asteroid collisions Nuclear warfare Pandemic preparedness  \\\n",
       "subject                                                             \n",
       "1                         5               5                     5   \n",
       "2                         4               4                     3   \n",
       "3                         3               4                     5   \n",
       "4                         2               3                     4   \n",
       "5                         4               4                     4   \n",
       "\n",
       "                          Engagement         Region When joined EA  \n",
       "subject                                                             \n",
       "1            (3) Moderate engagement     USA/Canada  2019 or later  \n",
       "2                (2) Mild engagement     USA/Canada           2018  \n",
       "3            (3) Moderate engagement  Rest of world  2019 or later  \n",
       "4                (2) Mild engagement     USA/Canada           2017  \n",
       "5        (4) Considerable engagement     USA/Canada  2019 or later  "
      ]
     },
     "execution_count": 96,
     "metadata": {},
     "output_type": "execute_result"
    }
   ],
   "source": [
    "sheet_url = \"https://docs.google.com/spreadsheets/d/1pdWo_Q4FyHkL_E12zrp63HQA3txPs4TNGP2MgvO3Kfk/export?format=csv&id=1pdWo_Q4FyHkL_E12zrp63HQA3txPs4TNGP2MgvO3Kfk&gid=0\"\n",
    "    \n",
    "data = pd.read_csv(sheet_url,index_col=0)\n",
    "data.columns = data.columns.str.strip(' ')\n",
    "data.head()"
   ]
  },
  {
   "cell_type": "code",
   "execution_count": 97,
   "metadata": {},
   "outputs": [
    {
     "name": "stdout",
     "output_type": "stream",
     "text": [
      "[0 1]\n",
      "['4' '5' '6' '2' '3' '(7) Highly important' '(1) Not at all important']\n",
      "['5' '6' '4' '2' '3' '(7) Highly important' '(1) Not at all important']\n",
      "['4' '5' '2' '6' '3' '(7) Highly important' '(1) Not at all important']\n",
      "['5' '4' '3' '2' '6' '(7) Highly important' '(1) Not at all important']\n",
      "['5' '4' '3' '6' '2' '(7) Highly important' '(1) Not at all important']\n",
      "['5' '3' '4' '6' '(7) Highly important' '2' '(1) Not at all important']\n",
      "['(3) Moderate engagement' '(2) Mild engagement'\n",
      " '(4) Considerable engagement' '(1) No engagement' '(5) High engagement']\n",
      "['USA/Canada' 'Rest of world' 'UK' 'Europe']\n",
      "['2019 or later' '2018' '2017' '2015 or before' '2016']\n"
     ]
    }
   ],
   "source": [
    "# Not sure if it's been edited by hand, let's check if labels are consistent\n",
    "\n",
    "for col in data.columns:\n",
    "    print(data[col].unique())"
   ]
  },
  {
   "cell_type": "code",
   "execution_count": 98,
   "metadata": {},
   "outputs": [
    {
     "name": "stdout",
     "output_type": "stream",
     "text": [
      "[4 5 6 2 3 7 1]\n",
      "[5 6 4 2 3 7 1]\n",
      "[4 5 2 6 3 7 1]\n",
      "[5 4 3 2 6 7 1]\n",
      "[5 4 3 6 2 7 1]\n",
      "[5 3 4 6 7 2 1]\n",
      "[3 2 4 1 5]\n",
      "[2019 2018 2017 2015 2016]\n"
     ]
    }
   ],
   "source": [
    "# Looks good. Let's take a simple approach to making the data numeric\n",
    "# may wish to revisit the \"year joined\" method later, as \"2015 or before\" != 2015\n",
    "\n",
    "repl = lambda m: m.group(0)\n",
    "\n",
    "for col in data.columns:\n",
    "    if data[col].dtype == object:\n",
    "        if data[col].str.contains('[0-9]').any():\n",
    "            data[col] = data[col].str.replace('[^0-9]',\"\").astype(int)\n",
    "            print(data[col].unique())"
   ]
  },
  {
   "cell_type": "code",
   "execution_count": 99,
   "metadata": {},
   "outputs": [
    {
     "data": {
      "text/plain": [
       "array([[<matplotlib.axes._subplots.AxesSubplot object at 0x7fd46e3fd880>,\n",
       "        <matplotlib.axes._subplots.AxesSubplot object at 0x7fd46e42b2e0>,\n",
       "        <matplotlib.axes._subplots.AxesSubplot object at 0x7fd46e3cc430>],\n",
       "       [<matplotlib.axes._subplots.AxesSubplot object at 0x7fd46e3fa5b0>,\n",
       "        <matplotlib.axes._subplots.AxesSubplot object at 0x7fd46e3a7730>,\n",
       "        <matplotlib.axes._subplots.AxesSubplot object at 0x7fd46e3568b0>],\n",
       "       [<matplotlib.axes._subplots.AxesSubplot object at 0x7fd46e363850>,\n",
       "        <matplotlib.axes._subplots.AxesSubplot object at 0x7fd46e310a00>,\n",
       "        <matplotlib.axes._subplots.AxesSubplot object at 0x7fd46e2e4d00>]],\n",
       "      dtype=object)"
      ]
     },
     "execution_count": 99,
     "metadata": {},
     "output_type": "execute_result"
    },
    {
     "data": {
      "image/png": "[encoded data removed]",
      "text/plain": [
       "<Figure size 720x576 with 9 Axes>"
      ]
     },
     "metadata": {
      "needs_background": "light"
     },
     "output_type": "display_data"
    }
   ],
   "source": [
    "# Looks a bit cruddy without fine-tuning bins, but you get the idea\n",
    "\n",
    "data.hist(figsize=(10,8),sharey=True)"
   ]
  },
  {
   "cell_type": "markdown",
   "metadata": {},
   "source": [
    "The 2019 cohort is larger than the previous cohorts, which could be either due to containing 2020ers or because \"people who have been involved for more than 1 year are more likely to stay for additional years than people who have not yet been involved for 1 year\" (as I initially guessed). Overall, I don't think I will be able to do better than guess \"2019 or later\" == 2019.\n",
    "\n",
    "I find the lack of extra examples in 2015 surprising, because it should include 2014, 2013 and so forth. It seems that [there really was rapid growth](https://files.givewell.org/files/metrics/GiveWell_Metrics_Report_2016.pdf#page=8) from 2014-2015, so most of the \"2015 and before\" cohort might indeed be 2015 joiners.\n",
    "\n",
    "I might reconsider this if I have time at the end, but for now I'm going to suppose that \"2015 and before\" is just the 2015 cohort. I initially tried to assign 2/3rds to the 2015 cohort and 1/3rd to the 2014 cohort, but couldn't get the model below to converge and I'd rather move on than spend a long time trouble shooting."
   ]
  },
  {
   "cell_type": "code",
   "execution_count": 100,
   "metadata": {},
   "outputs": [
    {
     "data": {
      "text/plain": [
       "<matplotlib.axes._subplots.AxesSubplot at 0x7fd46e1f8310>"
      ]
     },
     "execution_count": 100,
     "metadata": {},
     "output_type": "execute_result"
    },
    {
     "data": {
      "image/png": "[encoded data removed]",
      "text/plain": [
       "<Figure size 432x288 with 1 Axes>"
      ]
     },
     "metadata": {
      "needs_background": "light"
     },
     "output_type": "display_data"
    }
   ],
   "source": [
    "data['Region'].value_counts().plot.bar()"
   ]
  },
  {
   "cell_type": "markdown",
   "metadata": {},
   "source": [
    "I'm going to try to estimate the hazard ratio, because I'm curious to know what it is. The \"n-year hazard ratio\" is the probability someone who has been involved in EA drops out after n years. I'm going to set priors with an initial guess that the hazard ratios are 1/3 for 1 year, 1/5 for 2 years, 1/6 for 3 years and so on. This was mainly to get a roughly even distribution of joining dates.\n",
    "\n",
    "Using GiveWell donor estimates to guess the total size of the EA movement.\n",
    "\n",
    "Even though I actually expect there to be some drift in the relationship between EA movement size and GiveWell donor counts, I treat the error in this estimate as an independent 10% each year."
   ]
  },
  {
   "cell_type": "code",
   "execution_count": 101,
   "metadata": {
    "scrolled": true
   },
   "outputs": [
    {
     "name": "stderr",
     "output_type": "stream",
     "text": [
      "sample: 100%|██████████| 4000/4000 [00:04<00:00, 870.37it/s, 15 steps of size 1.22e-01. acc. prob=0.95]\n",
      "  0%|          | 0/4000 [00:00<?, ?it/s]"
     ]
    },
    {
     "name": "stdout",
     "output_type": "stream",
     "text": [
      "\n",
      "                mean       std    median      5.0%     95.0%     n_eff     r_hat\n",
      " hazard[0]      0.36      0.11      0.38      0.18      0.53    515.74      1.00\n",
      " hazard[1]      0.13      0.07      0.12      0.02      0.25   1326.70      1.00\n",
      " hazard[2]      0.14      0.07      0.12      0.02      0.25   1383.51      1.01\n",
      " hazard[3]      0.25      0.11      0.25      0.08      0.43    872.62      1.00\n",
      " joined[0]      0.37      0.03      0.37      0.33      0.42   1574.92      1.00\n",
      " joined[1]      0.36      0.05      0.36      0.27      0.44    743.11      1.00\n",
      " joined[2]      0.36      0.06      0.35      0.26      0.44    553.49      1.00\n",
      " joined[3]      0.32      0.06      0.32      0.22      0.41    611.78      1.00\n",
      " joined[4]      0.31      0.02      0.31      0.28      0.34   1415.01      1.00\n",
      "\n",
      "Number of divergences: 0\n"
     ]
    },
    {
     "name": "stderr",
     "output_type": "stream",
     "text": [
      "sample: 100%|██████████| 4000/4000 [00:03<00:00, 1009.99it/s, 31 steps of size 1.31e-01. acc. prob=0.88]\n"
     ]
    },
    {
     "name": "stdout",
     "output_type": "stream",
     "text": [
      "\n",
      "                mean       std    median      5.0%     95.0%     n_eff     r_hat\n",
      " hazard[0]      0.34      0.19      0.32      0.03      0.62    296.58      1.00\n",
      " hazard[1]      0.20      0.12      0.18      0.02      0.38   1185.65      1.00\n",
      " hazard[2]      0.17      0.10      0.15      0.01      0.32   1634.12      1.00\n",
      " hazard[3]      0.15      0.09      0.13      0.01      0.28   1569.12      1.00\n",
      " joined[0]      0.39      0.20      0.33      0.16      0.65    214.29      1.00\n",
      " joined[1]      0.46      0.22      0.40      0.19      0.75    210.32      1.00\n",
      " joined[2]      0.42      0.18      0.37      0.20      0.69    206.73      1.00\n",
      " joined[3]      0.34      0.14      0.29      0.18      0.53    210.25      1.00\n",
      " joined[4]      0.31      0.03      0.31      0.26      0.36   1616.11      1.00\n",
      "\n",
      "Number of divergences: 3\n"
     ]
    },
    {
     "name": "stderr",
     "output_type": "stream",
     "text": [
      "sample: 100%|██████████| 4000/4000 [00:04<00:00, 850.48it/s, 31 steps of size 1.13e-01. acc. prob=0.95]\n"
     ]
    },
    {
     "name": "stdout",
     "output_type": "stream",
     "text": [
      "\n",
      "                mean       std    median      5.0%     95.0%     n_eff     r_hat\n",
      " hazard[0]      0.26      0.11      0.26      0.06      0.42    449.74      1.00\n",
      " hazard[1]      0.14      0.07      0.13      0.03      0.26   1484.72      1.00\n",
      " hazard[2]      0.15      0.08      0.14      0.02      0.27   1213.65      1.01\n",
      " hazard[3]      0.37      0.11      0.38      0.19      0.56    513.10      1.00\n",
      " joined[0]      0.38      0.03      0.38      0.33      0.43   1445.80      1.00\n",
      " joined[1]      0.31      0.05      0.31      0.23      0.40    555.28      1.00\n",
      " joined[2]      0.31      0.05      0.30      0.23      0.39    491.20      1.00\n",
      " joined[3]      0.27      0.05      0.27      0.20      0.34    580.68      1.00\n",
      " joined[4]      0.31      0.02      0.31      0.28      0.34   1456.30      1.00\n",
      "\n",
      "Number of divergences: 0\n"
     ]
    }
   ],
   "source": [
    "# 2015, 2016, 2017, 2018, 2019\n",
    "# Normalised to 1 EA member in 2019\n",
    "\n",
    "# Calculates the remaining members who joined in each year since 2015 given \n",
    "#  - The hazard rates for each cohort (annual % chance of dropping out after being involved i years)\n",
    "#  - The total number who joined in each year since 2015\n",
    "#  - A final year of y\n",
    "def member_decay(hazards, joineds, y):\n",
    "    cum_hazards = jnp.array([(1-hazards[:i]).prod() for i in range(y)])[::-1]\n",
    "    return cum_hazards*joineds[:y]\n",
    "\n",
    "# Calculates the total members who joined in each year since 2015 given \n",
    "#  - The hazard rates for each cohort (annual % chance of dropping out after being involved i years)\n",
    "#  - The remaining number who joined in each year since 2015\n",
    "#  - A final year of y\n",
    "def inverse_member_decay(hazards, remaining, y):\n",
    "    cum_hazards = jnp.array([(1-hazards[:i]).prod() for i in range(y)])[::-1]\n",
    "    return remaining[:y]/cum_hazards\n",
    "\n",
    "EA_TOTAL = jnp.array([2395, 2916, 4150, 4587, 5669])/5669\n",
    "#EA_TOTAL = jnp.array([1044,2395, 2916, 4150, 4587, 5669])/5669\n",
    "\n",
    "# Split the 2015 cohort\n",
    "REMAINING_2019 = data['When joined EA'].value_counts()[::-1].values/2000\n",
    "# REMAINING_2019 = np.array([REMAINING_2019[0]*1/3] + [REMAINING_2019[0]*2/3] + list(REMAINING_2019[1:]))\n",
    "\n",
    "TEST_HAZARDS = jnp.array([1/3,1/5,1/6,1/7]) # For testing purposes only\n",
    "TEST_JOINED = inverse_member_decay(TEST_HAZARDS,REMAINING_2019,5) # For testing purposes only\n",
    "\n",
    "# Model of member counts and dropout\n",
    "# The relationship between total number joined each year and remaining cohort from that year is given by functions\n",
    "# above\n",
    "\n",
    "# Also assume that there's noise in actual number who join, reported member totals and reported cohort size\n",
    "# Just set noise to normal distribution with 1SD = 10% reported value in each case, didn't think about it too hard\n",
    "# The model doesn't converge if I try to use sampling error for the noise, which isn't appropriate anyway\n",
    "# Because GiveWell donors and survey respondents aren't from the same population\n",
    "\n",
    "def model(obs_members = None, obs_remaining = None,beta_c1 = None, beta_c2 = None):\n",
    "    hazards = numpyro.sample('hazard',dist.Beta(beta_c1,beta_c2)) #needs an additional component if you want to split 2015\n",
    "    joined_est = inverse_member_decay(hazards,obs_remaining,len(obs_remaining))\n",
    "    joined = numpyro.sample('joined', dist.Normal(joined_est,joined_est*0.1))\n",
    "    members = jnp.array([member_decay(hazards, joined, y).sum() for y in range(1,1+len(obs_members))])\n",
    "    meas_members = numpyro.sample('meas_members',dist.Normal(members,members*0.1),obs=obs_members)\n",
    "    remaining = member_decay(hazards, joined, len(obs_members))\n",
    "    reported_remain = numpyro.sample('reported_remaining',dist.Normal(remaining,remaining*0.1),obs=obs_remaining)\n",
    "\n",
    "def prior_only(obs_members = None, obs_remaining = None, beta_c1 = None, beta_c2 = None):\n",
    "    hazards = numpyro.sample('hazard',dist.Beta(beta_c1,beta_c2))\n",
    "    joined_est = inverse_member_decay(hazards,obs_remaining,len(obs_remaining))\n",
    "    joined = numpyro.sample('joined', dist.Normal(joined_est,joined_est*0.1))\n",
    "    \n",
    "def run_samples(model,\n",
    "                obs_members = EA_TOTAL, \n",
    "                obs_remaining = REMAINING_2019,\n",
    "                beta_c1 = [2,2,2,2],\n",
    "                beta_c2 = [4,8,10,12],\n",
    "                num_warmup = 2000, \n",
    "                num_samples = 2000):\n",
    "    # Start from this source of randomness. We will split keys for subsequent operations.\n",
    "    rng_key = random.PRNGKey(0)\n",
    "    rng_key, rng_key_ = random.split(rng_key)\n",
    "\n",
    "    # Run NUTS.\n",
    "    kernel = NUTS(model)\n",
    "    mcmc = MCMC(kernel, num_warmup, num_samples)\n",
    "    mcmc.run(rng_key_, obs_members = obs_members, obs_remaining = obs_remaining, beta_c1 = beta_c1, beta_c2 = beta_c2)\n",
    "    mcmc.print_summary()\n",
    "    samples_1 = mcmc.get_samples()\n",
    "    return samples_1\n",
    "\n",
    "samples = run_samples(model)\n",
    "samples_prior = run_samples(prior_only)\n",
    "samples_flat = run_samples(model, beta_c2 = [4,4,4,4])"
   ]
  },
  {
   "cell_type": "code",
   "execution_count": 102,
   "metadata": {},
   "outputs": [
    {
     "data": {
      "text/plain": [
       "DeviceArray([0.3255    , 0.39037502, 0.36656252, 0.29850003, 0.308     ],            dtype=float32)"
      ]
     },
     "execution_count": 102,
     "metadata": {},
     "output_type": "execute_result"
    }
   ],
   "source": [
    "TEST_JOINED"
   ]
  },
  {
   "cell_type": "code",
   "execution_count": 103,
   "metadata": {},
   "outputs": [],
   "source": [
    "hazard_rates = pd.melt(pd.DataFrame(samples['hazard']),\n",
    "                       value_vars=[0,1,2,3],\n",
    "                       var_name = 'years involved', \n",
    "                       value_name = 'annual probability of dropout')\n",
    "\n",
    "hazard_prior = pd.melt(pd.DataFrame(samples_prior['hazard']),\n",
    "                       value_vars=[0,1,2,3],\n",
    "                       var_name = 'years involved', \n",
    "                       value_name = 'annual probability of dropout')\n",
    "hazard_flat = pd.melt(pd.DataFrame(samples_flat['hazard']),\n",
    "                       value_vars=[0,1,2,3],\n",
    "                       var_name = 'years involved', \n",
    "                       value_name = 'annual probability of dropout')\n",
    "\n",
    "hazard_rates['source'] = 'posterior'\n",
    "hazard_prior['source'] = 'prior'\n",
    "hazard_flat['source'] = 'posterior from flat prior'\n",
    "\n",
    "\n",
    "hazard_rates = hazard_rates.append(hazard_prior).append(hazard_flat)"
   ]
  },
  {
   "cell_type": "markdown",
   "metadata": {},
   "source": [
    "Annual probability of dropout seems to fall after the first year of involvement"
   ]
  },
  {
   "cell_type": "code",
   "execution_count": 104,
   "metadata": {},
   "outputs": [
    {
     "data": {
      "text/plain": [
       "<matplotlib.axes._subplots.AxesSubplot at 0x7fd46e137400>"
      ]
     },
     "execution_count": 104,
     "metadata": {},
     "output_type": "execute_result"
    },
    {
     "data": {
      "image/png": "[encoded data removed]",
      "text/plain": [
       "<Figure size 720x432 with 1 Axes>"
      ]
     },
     "metadata": {
      "needs_background": "light"
     },
     "output_type": "display_data"
    }
   ],
   "source": [
    "summary = hazard_rates[(hazard_rates['source']=='posterior')&(hazard_rates['years involved']<3)]\n",
    "\n",
    "fig, ax = plt.subplots(figsize=(10,6))\n",
    "sns.lineplot(data = summary,x='years involved',y='annual probability of dropout',ci='sd',ax=ax)"
   ]
  },
  {
   "cell_type": "markdown",
   "metadata": {},
   "source": [
    "For people involved 3 years or longer, the model treats them all as being involved for exactly 3 years, while a substantial number may have been involved 4+ years. This means that the \"3 year annual dropout rate\" isn't well-specified. However, if the 0, 1 and 2 year rates are correct I think this should bias the result down, not up because the 4 year cohort should drop out less than expected, and this is the opposite of what we find.\n",
    "\n",
    "This seems to be related to the comment I made at the outset - that there are surprisingly few people in the \"2015 or before\" cohort, which the model accounts for by giving just this cohort a very high dropout rate.\n",
    "\n",
    "The model also wants to say that most people joined in the earlier years, which I think is wrong, but this doesn't seem to depend strongly on the priors.\n",
    "\n",
    "As mentioned above, I tried a crude method to address this, but didn't get the model to converge.\n",
    "\n",
    "The prior is also plotted to show how the posterior differs."
   ]
  },
  {
   "cell_type": "code",
   "execution_count": 105,
   "metadata": {},
   "outputs": [
    {
     "data": {
      "text/plain": [
       "<matplotlib.axes._subplots.AxesSubplot at 0x7fd46d4dc700>"
      ]
     },
     "execution_count": 105,
     "metadata": {},
     "output_type": "execute_result"
    },
    {
     "data": {
      "image/png": "[encoded data removed]",
      "text/plain": [
       "<Figure size 720x432 with 1 Axes>"
      ]
     },
     "metadata": {
      "needs_background": "light"
     },
     "output_type": "display_data"
    }
   ],
   "source": [
    "noflat = hazard_rates[hazard_rates['source']!='posterior from flat prior']\n",
    "\n",
    "fig, ax = plt.subplots(figsize=(10,6))\n",
    "sns.lineplot(data = noflat,x='years involved',y='annual probability of dropout',ci='sd',hue='source',ax=ax)"
   ]
  },
  {
   "cell_type": "code",
   "execution_count": 106,
   "metadata": {},
   "outputs": [
    {
     "data": {
      "text/plain": [
       "<matplotlib.axes._subplots.AxesSubplot at 0x7fd4a081e250>"
      ]
     },
     "execution_count": 106,
     "metadata": {},
     "output_type": "execute_result"
    },
    {
     "data": {
      "image/png": "[encoded data removed]",
      "text/plain": [
       "<Figure size 720x432 with 1 Axes>"
      ]
     },
     "metadata": {
      "needs_background": "light"
     },
     "output_type": "display_data"
    }
   ],
   "source": [
    "noprior = hazard_rates[hazard_rates['source']!='prior']\n",
    "\n",
    "fig, ax = plt.subplots(figsize=(10,6))\n",
    "sns.lineplot(data = noprior,x='years involved',y='annual probability of dropout',ci='sd',hue='source',ax=ax)"
   ]
  },
  {
   "cell_type": "markdown",
   "metadata": {},
   "source": [
    "We can also visualise how many people would have been picked up by the survey if dropouts and engaged EA community members both participated. As mentioned, I don't think the result with most joiners in 2015 is realistic."
   ]
  },
  {
   "cell_type": "code",
   "execution_count": 107,
   "metadata": {
    "scrolled": false
   },
   "outputs": [
    {
     "data": {
      "text/plain": [
       "<matplotlib.legend.Legend at 0x7fd47b1bc820>"
      ]
     },
     "execution_count": 107,
     "metadata": {},
     "output_type": "execute_result"
    },
    {
     "data": {
      "image/png": "[encoded data removed]",
      "text/plain": [
       "<Figure size 720x432 with 1 Axes>"
      ]
     },
     "metadata": {
      "needs_background": "light"
     },
     "output_type": "display_data"
    }
   ],
   "source": [
    "fullcohort = pd.melt(pd.DataFrame(samples['joined']).rename(columns = {0:2015,1:2016,2:2017,3:2018,4:2019})*2000,\n",
    "                       value_vars=[2015,2016,2017,2018,2019],\n",
    "                       var_name = 'years involved', \n",
    "                       value_name = 'relative number joined')\n",
    "fig, ax = plt.subplots(figsize=(10,6))\n",
    "sns.barplot(data = fullcohort,x='years involved',y='relative number joined',ci='sd',ax=ax,color='blue',label='total joiners')\n",
    "sns.barplot([2015,2016,2017,2018,2019],REMAINING_2019*2000,ax=ax,color='red',label='surveyed fraction')\n",
    "ax.legend()"
   ]
  },
  {
   "cell_type": "code",
   "execution_count": 123,
   "metadata": {},
   "outputs": [
    {
     "data": {
      "text/plain": [
       "array([183.8067 , 435.3501 , 154.17175, 381.72522], dtype=float32)"
      ]
     },
     "execution_count": 123,
     "metadata": {},
     "output_type": "execute_result"
    }
   ],
   "source": [
    "np.diff(EA_TOTAL*2000)"
   ]
  },
  {
   "cell_type": "markdown",
   "metadata": {},
   "source": [
    "It's not clear in the GiveWell data that there is a trend towards larger numbers of recruits in later years, so this weak prediction of more recruits in 2015 than 2019 isn't absurd, but it doesn't seem right to me."
   ]
  },
  {
   "cell_type": "markdown",
   "metadata": {},
   "source": [
    "I want to have a look at model structure. For calibration, \"Student\" - \"Years involved\" (top right) is pretty close to 0 correlation."
   ]
  },
  {
   "cell_type": "code",
   "execution_count": 108,
   "metadata": {},
   "outputs": [
    {
     "data": {
      "text/plain": [
       "<matplotlib.axes._subplots.AxesSubplot at 0x7fd46d3d5b20>"
      ]
     },
     "execution_count": 108,
     "metadata": {},
     "output_type": "execute_result"
    },
    {
     "data": {
      "image/png": "[encoded data removed]",
      "text/plain": [
       "<Figure size 1152x720 with 2 Axes>"
      ]
     },
     "metadata": {
      "needs_background": "light"
     },
     "output_type": "display_data"
    }
   ],
   "source": [
    "data['Years involved'] = 2019-data['When joined EA']\n",
    "df = data.drop(columns = ['When joined EA'])\n",
    "fig, ax = plt.subplots(figsize=(16,10))\n",
    "sns.heatmap(df.corr(), ax=ax)"
   ]
  },
  {
   "cell_type": "code",
   "execution_count": 109,
   "metadata": {},
   "outputs": [
    {
     "data": {
      "text/html": [
       "<div>\n",
       "<style scoped>\n",
       "    .dataframe tbody tr th:only-of-type {\n",
       "        vertical-align: middle;\n",
       "    }\n",
       "\n",
       "    .dataframe tbody tr th {\n",
       "        vertical-align: top;\n",
       "    }\n",
       "\n",
       "    .dataframe thead th {\n",
       "        text-align: right;\n",
       "    }\n",
       "</style>\n",
       "<table border=\"1\" class=\"dataframe\">\n",
       "  <thead>\n",
       "    <tr style=\"text-align: right;\">\n",
       "      <th></th>\n",
       "      <th>student</th>\n",
       "      <th>Global Poverty</th>\n",
       "      <th>Homelessness</th>\n",
       "      <th>Mental health</th>\n",
       "      <th>Asteroid collisions</th>\n",
       "      <th>Nuclear warfare</th>\n",
       "      <th>Pandemic preparedness</th>\n",
       "      <th>Engagement</th>\n",
       "      <th>Years involved</th>\n",
       "    </tr>\n",
       "  </thead>\n",
       "  <tbody>\n",
       "    <tr>\n",
       "      <th>student</th>\n",
       "      <td>1.000000</td>\n",
       "      <td>-0.210414</td>\n",
       "      <td>-0.152539</td>\n",
       "      <td>-0.214029</td>\n",
       "      <td>0.191466</td>\n",
       "      <td>0.179624</td>\n",
       "      <td>0.192689</td>\n",
       "      <td>0.030120</td>\n",
       "      <td>0.008421</td>\n",
       "    </tr>\n",
       "    <tr>\n",
       "      <th>Global Poverty</th>\n",
       "      <td>-0.210414</td>\n",
       "      <td>1.000000</td>\n",
       "      <td>0.437195</td>\n",
       "      <td>0.348269</td>\n",
       "      <td>-0.227045</td>\n",
       "      <td>-0.289223</td>\n",
       "      <td>-0.442419</td>\n",
       "      <td>-0.256671</td>\n",
       "      <td>-0.123992</td>\n",
       "    </tr>\n",
       "    <tr>\n",
       "      <th>Homelessness</th>\n",
       "      <td>-0.152539</td>\n",
       "      <td>0.437195</td>\n",
       "      <td>1.000000</td>\n",
       "      <td>0.271795</td>\n",
       "      <td>-0.181196</td>\n",
       "      <td>-0.170828</td>\n",
       "      <td>-0.305427</td>\n",
       "      <td>-0.195120</td>\n",
       "      <td>-0.070069</td>\n",
       "    </tr>\n",
       "    <tr>\n",
       "      <th>Mental health</th>\n",
       "      <td>-0.214029</td>\n",
       "      <td>0.348269</td>\n",
       "      <td>0.271795</td>\n",
       "      <td>1.000000</td>\n",
       "      <td>-0.162125</td>\n",
       "      <td>-0.164134</td>\n",
       "      <td>-0.263746</td>\n",
       "      <td>-0.147422</td>\n",
       "      <td>-0.065128</td>\n",
       "    </tr>\n",
       "    <tr>\n",
       "      <th>Asteroid collisions</th>\n",
       "      <td>0.191466</td>\n",
       "      <td>-0.227045</td>\n",
       "      <td>-0.181196</td>\n",
       "      <td>-0.162125</td>\n",
       "      <td>1.000000</td>\n",
       "      <td>0.239121</td>\n",
       "      <td>0.336412</td>\n",
       "      <td>0.209953</td>\n",
       "      <td>0.078624</td>\n",
       "    </tr>\n",
       "    <tr>\n",
       "      <th>Nuclear warfare</th>\n",
       "      <td>0.179624</td>\n",
       "      <td>-0.289223</td>\n",
       "      <td>-0.170828</td>\n",
       "      <td>-0.164134</td>\n",
       "      <td>0.239121</td>\n",
       "      <td>1.000000</td>\n",
       "      <td>0.415937</td>\n",
       "      <td>0.261707</td>\n",
       "      <td>0.103599</td>\n",
       "    </tr>\n",
       "    <tr>\n",
       "      <th>Pandemic preparedness</th>\n",
       "      <td>0.192689</td>\n",
       "      <td>-0.442419</td>\n",
       "      <td>-0.305427</td>\n",
       "      <td>-0.263746</td>\n",
       "      <td>0.336412</td>\n",
       "      <td>0.415937</td>\n",
       "      <td>1.000000</td>\n",
       "      <td>0.415581</td>\n",
       "      <td>0.198093</td>\n",
       "    </tr>\n",
       "    <tr>\n",
       "      <th>Engagement</th>\n",
       "      <td>0.030120</td>\n",
       "      <td>-0.256671</td>\n",
       "      <td>-0.195120</td>\n",
       "      <td>-0.147422</td>\n",
       "      <td>0.209953</td>\n",
       "      <td>0.261707</td>\n",
       "      <td>0.415581</td>\n",
       "      <td>1.000000</td>\n",
       "      <td>0.385331</td>\n",
       "    </tr>\n",
       "    <tr>\n",
       "      <th>Years involved</th>\n",
       "      <td>0.008421</td>\n",
       "      <td>-0.123992</td>\n",
       "      <td>-0.070069</td>\n",
       "      <td>-0.065128</td>\n",
       "      <td>0.078624</td>\n",
       "      <td>0.103599</td>\n",
       "      <td>0.198093</td>\n",
       "      <td>0.385331</td>\n",
       "      <td>1.000000</td>\n",
       "    </tr>\n",
       "  </tbody>\n",
       "</table>\n",
       "</div>"
      ],
      "text/plain": [
       "                        student  Global Poverty  Homelessness  Mental health  \\\n",
       "student                1.000000       -0.210414     -0.152539      -0.214029   \n",
       "Global Poverty        -0.210414        1.000000      0.437195       0.348269   \n",
       "Homelessness          -0.152539        0.437195      1.000000       0.271795   \n",
       "Mental health         -0.214029        0.348269      0.271795       1.000000   \n",
       "Asteroid collisions    0.191466       -0.227045     -0.181196      -0.162125   \n",
       "Nuclear warfare        0.179624       -0.289223     -0.170828      -0.164134   \n",
       "Pandemic preparedness  0.192689       -0.442419     -0.305427      -0.263746   \n",
       "Engagement             0.030120       -0.256671     -0.195120      -0.147422   \n",
       "Years involved         0.008421       -0.123992     -0.070069      -0.065128   \n",
       "\n",
       "                       Asteroid collisions  Nuclear warfare  \\\n",
       "student                           0.191466         0.179624   \n",
       "Global Poverty                   -0.227045        -0.289223   \n",
       "Homelessness                     -0.181196        -0.170828   \n",
       "Mental health                    -0.162125        -0.164134   \n",
       "Asteroid collisions               1.000000         0.239121   \n",
       "Nuclear warfare                   0.239121         1.000000   \n",
       "Pandemic preparedness             0.336412         0.415937   \n",
       "Engagement                        0.209953         0.261707   \n",
       "Years involved                    0.078624         0.103599   \n",
       "\n",
       "                       Pandemic preparedness  Engagement  Years involved  \n",
       "student                             0.192689    0.030120        0.008421  \n",
       "Global Poverty                     -0.442419   -0.256671       -0.123992  \n",
       "Homelessness                       -0.305427   -0.195120       -0.070069  \n",
       "Mental health                      -0.263746   -0.147422       -0.065128  \n",
       "Asteroid collisions                 0.336412    0.209953        0.078624  \n",
       "Nuclear warfare                     0.415937    0.261707        0.103599  \n",
       "Pandemic preparedness               1.000000    0.415581        0.198093  \n",
       "Engagement                          0.415581    1.000000        0.385331  \n",
       "Years involved                      0.198093    0.385331        1.000000  "
      ]
     },
     "execution_count": 109,
     "metadata": {},
     "output_type": "execute_result"
    }
   ],
   "source": [
    "df.corr()"
   ]
  },
  {
   "cell_type": "markdown",
   "metadata": {},
   "source": [
    "On an initial inspection, it looks like there are cause clusters - \"local\": {homelessness, mental health, global poverty} and \"global\": {asteroid collisions, nuclear warfare, pandemic preparedness}. Students seem to tend towards the latter cluster, and highly engaged/many years involved people tend weakly towards it.\n",
    "\n",
    "I'm going to do a PCA and see if the leading component is aligned with the local/global axis."
   ]
  },
  {
   "cell_type": "code",
   "execution_count": 110,
   "metadata": {},
   "outputs": [],
   "source": [
    "PRIORITIES = ['Global Poverty',\n",
    "              'Homelessness',\n",
    "              'Mental health',\n",
    "              'Asteroid collisions',\n",
    "              'Nuclear warfare',\n",
    "              'Pandemic preparedness']"
   ]
  },
  {
   "cell_type": "code",
   "execution_count": 111,
   "metadata": {},
   "outputs": [
    {
     "name": "stdout",
     "output_type": "stream",
     "text": [
      "[0.40875095 0.16286938]\n"
     ]
    }
   ],
   "source": [
    "def standardise(data):\n",
    "    d = data.copy()\n",
    "    for col in data.columns:\n",
    "        d[col] = d[col]-d[col].mean()\n",
    "        d[col] /= d[col].std()\n",
    "    return d\n",
    "        \n",
    "priorities = standardise(data[PRIORITIES])\n",
    "\n",
    "pca = PCA(n_components = 2)\n",
    "\n",
    "pca.fit(priorities)\n",
    "\n",
    "print(pca.explained_variance_ratio_)"
   ]
  },
  {
   "cell_type": "code",
   "execution_count": 112,
   "metadata": {},
   "outputs": [],
   "source": [
    "pca_priorities = pca.transform(priorities)"
   ]
  },
  {
   "cell_type": "code",
   "execution_count": 113,
   "metadata": {},
   "outputs": [
    {
     "data": {
      "text/plain": [
       "<matplotlib.axes._subplots.AxesSubplot at 0x7fd46d2f5c40>"
      ]
     },
     "execution_count": 113,
     "metadata": {},
     "output_type": "execute_result"
    },
    {
     "data": {
      "image/png": "[encoded data removed]",
      "text/plain": [
       "<Figure size 1152x720 with 2 Axes>"
      ]
     },
     "metadata": {
      "needs_background": "light"
     },
     "output_type": "display_data"
    }
   ],
   "source": [
    "fig, ax = plt.subplots(2,figsize=(16,10))\n",
    "\n",
    "sns.barplot(PRIORITIES,pca.components_[0],ax=ax[0],color='blue')\n",
    "sns.barplot(PRIORITIES,pca.components_[1],ax=ax[1],color='red')"
   ]
  },
  {
   "cell_type": "markdown",
   "metadata": {},
   "source": [
    "It is, and it explains a lot more variance than the next one. I don't really know how to interpret the second component, at least not quickly."
   ]
  },
  {
   "cell_type": "code",
   "execution_count": 116,
   "metadata": {},
   "outputs": [],
   "source": [
    "data['Risk focus'] = pca_priorities[:,0]\n",
    "compressed_causes = data.drop(columns = PRIORITIES)"
   ]
  },
  {
   "cell_type": "code",
   "execution_count": 117,
   "metadata": {},
   "outputs": [
    {
     "data": {
      "text/plain": [
       "<matplotlib.axes._subplots.AxesSubplot at 0x7fd46e0f3c70>"
      ]
     },
     "execution_count": 117,
     "metadata": {},
     "output_type": "execute_result"
    },
    {
     "data": {
      "image/png": "[encoded data removed]",
      "text/plain": [
       "<Figure size 1152x720 with 2 Axes>"
      ]
     },
     "metadata": {
      "needs_background": "light"
     },
     "output_type": "display_data"
    }
   ],
   "source": [
    "fig, ax = plt.subplots(figsize=(16,10))\n",
    "sns.heatmap(compressed_causes.corr(), ax=ax)"
   ]
  },
  {
   "cell_type": "code",
   "execution_count": 118,
   "metadata": {},
   "outputs": [
    {
     "data": {
      "text/html": [
       "<div>\n",
       "<style scoped>\n",
       "    .dataframe tbody tr th:only-of-type {\n",
       "        vertical-align: middle;\n",
       "    }\n",
       "\n",
       "    .dataframe tbody tr th {\n",
       "        vertical-align: top;\n",
       "    }\n",
       "\n",
       "    .dataframe thead th {\n",
       "        text-align: right;\n",
       "    }\n",
       "</style>\n",
       "<table border=\"1\" class=\"dataframe\">\n",
       "  <thead>\n",
       "    <tr style=\"text-align: right;\">\n",
       "      <th></th>\n",
       "      <th>student</th>\n",
       "      <th>Engagement</th>\n",
       "      <th>When joined EA</th>\n",
       "      <th>Years involved</th>\n",
       "      <th>Risk focus</th>\n",
       "    </tr>\n",
       "  </thead>\n",
       "  <tbody>\n",
       "    <tr>\n",
       "      <th>student</th>\n",
       "      <td>1.000000</td>\n",
       "      <td>0.030120</td>\n",
       "      <td>-0.008421</td>\n",
       "      <td>0.008421</td>\n",
       "      <td>0.295201</td>\n",
       "    </tr>\n",
       "    <tr>\n",
       "      <th>Engagement</th>\n",
       "      <td>0.030120</td>\n",
       "      <td>1.000000</td>\n",
       "      <td>-0.385331</td>\n",
       "      <td>0.385331</td>\n",
       "      <td>0.396975</td>\n",
       "    </tr>\n",
       "    <tr>\n",
       "      <th>When joined EA</th>\n",
       "      <td>-0.008421</td>\n",
       "      <td>-0.385331</td>\n",
       "      <td>1.000000</td>\n",
       "      <td>-1.000000</td>\n",
       "      <td>-0.173036</td>\n",
       "    </tr>\n",
       "    <tr>\n",
       "      <th>Years involved</th>\n",
       "      <td>0.008421</td>\n",
       "      <td>0.385331</td>\n",
       "      <td>-1.000000</td>\n",
       "      <td>1.000000</td>\n",
       "      <td>0.173036</td>\n",
       "    </tr>\n",
       "    <tr>\n",
       "      <th>Risk focus</th>\n",
       "      <td>0.295201</td>\n",
       "      <td>0.396975</td>\n",
       "      <td>-0.173036</td>\n",
       "      <td>0.173036</td>\n",
       "      <td>1.000000</td>\n",
       "    </tr>\n",
       "  </tbody>\n",
       "</table>\n",
       "</div>"
      ],
      "text/plain": [
       "                 student  Engagement  When joined EA  Years involved  \\\n",
       "student         1.000000    0.030120       -0.008421        0.008421   \n",
       "Engagement      0.030120    1.000000       -0.385331        0.385331   \n",
       "When joined EA -0.008421   -0.385331        1.000000       -1.000000   \n",
       "Years involved  0.008421    0.385331       -1.000000        1.000000   \n",
       "Risk focus      0.295201    0.396975       -0.173036        0.173036   \n",
       "\n",
       "                Risk focus  \n",
       "student           0.295201  \n",
       "Engagement        0.396975  \n",
       "When joined EA   -0.173036  \n",
       "Years involved    0.173036  \n",
       "Risk focus        1.000000  "
      ]
     },
     "execution_count": 118,
     "metadata": {},
     "output_type": "execute_result"
    }
   ],
   "source": [
    "compressed_causes.corr()"
   ]
  },
  {
   "cell_type": "markdown",
   "metadata": {},
   "source": [
    "There are a number of hypotheses for the correlation between engagement, years involved and risk focus. \n",
    "\n",
    "(A) It seems quite likely that being highly engaged causes people to be involved longer. (B) The reverse also seems plausible - that people who are involved for longer build stronger connections and therefore become more engaged.\n",
    "\n",
    "(1) It could be that high engagement causes high risk focus, for example because many conversations within EA are focussed on risks. \n",
    "\n",
    "(2) It could also be the case that lower risk focus causes low engagment, for example people are turned off by risk focussed EA conversations.\n",
    "\n",
    "(3) Lastly, it could be the case that the cohort of recruits has drifted over time to be less risk focussed and we don't observe the low engagement risk focussed people because they joined a longer time ago and have since dropped out."
   ]
  },
  {
   "cell_type": "markdown",
   "metadata": {},
   "source": [
    "I'm getting to the point of being in a hurry and I don't have time to figure out a good way to visualise graphics, so some graphs for the above hypotheses:\n",
    "(1+A) $\\text{Years involved} \\leftarrow \\mathrm{Engagement}\\to \\mathrm{Risk focus}$\n",
    "\n",
    "(1+B) $\\text{Years involved} \\rightarrow \\mathrm{Engagement}\\to \\mathrm{Risk focus}$\n",
    "\n",
    "(2+A) $\\text{Years involved} \\leftarrow \\mathrm{Engagement}\\leftarrow \\mathrm{Risk focus}$\n",
    "\n",
    "(3) $\\text{Engagement} \\leftarrow \\text{Time (proxied by Years involved)} \\to \\text{Risk focus}$\n",
    "\n",
    "And then we could have mixtures of any of these."
   ]
  },
  {
   "cell_type": "markdown",
   "metadata": {},
   "source": [
    "(3) might be distinguishable from the rest as it implies $\\text{Engagement}\\perp \\text{Risk focus} | \\text{Years involved}$. I'm not 100% sure that it is a sound way to handle missing data. I don't think this is likely to hold as the correlation between years involved and risk focus is much weaker than the correlation between engagement and risk focus.\n",
    "\n",
    "Also, if we don't have $\\text{Years involved}\\perp \\text{Risk focus} | \\text{Engagement}$ then none of the first three graphs can be true (though any could be true with additional arrows).\n",
    "\n",
    "I'm going to look at some partial correlations for fun\n"
   ]
  },
  {
   "cell_type": "code",
   "execution_count": 125,
   "metadata": {},
   "outputs": [
    {
     "data": {
      "text/html": [
       "<div>\n",
       "<style scoped>\n",
       "    .dataframe tbody tr th:only-of-type {\n",
       "        vertical-align: middle;\n",
       "    }\n",
       "\n",
       "    .dataframe tbody tr th {\n",
       "        vertical-align: top;\n",
       "    }\n",
       "\n",
       "    .dataframe thead th {\n",
       "        text-align: right;\n",
       "    }\n",
       "</style>\n",
       "<table border=\"1\" class=\"dataframe\">\n",
       "  <thead>\n",
       "    <tr style=\"text-align: right;\">\n",
       "      <th></th>\n",
       "      <th>n</th>\n",
       "      <th>r</th>\n",
       "      <th>CI95%</th>\n",
       "      <th>p-val</th>\n",
       "    </tr>\n",
       "  </thead>\n",
       "  <tbody>\n",
       "    <tr>\n",
       "      <th>pearson</th>\n",
       "      <td>2000</td>\n",
       "      <td>0.363421</td>\n",
       "      <td>[0.32, 0.4]</td>\n",
       "      <td>1.837807e-63</td>\n",
       "    </tr>\n",
       "  </tbody>\n",
       "</table>\n",
       "</div>"
      ],
      "text/plain": [
       "            n         r        CI95%         p-val\n",
       "pearson  2000  0.363421  [0.32, 0.4]  1.837807e-63"
      ]
     },
     "execution_count": 125,
     "metadata": {},
     "output_type": "execute_result"
    }
   ],
   "source": [
    "pingouin.partial_corr(compressed_causes,x='Engagement',y='Risk focus',covar='Years involved')"
   ]
  },
  {
   "cell_type": "markdown",
   "metadata": {},
   "source": [
    "Graph (3) is definitely not right, then. This doesn't mean that the pattern it expresses can be ruled out (cohort drift), but it would need to be a pattern within a graph with some other connections."
   ]
  },
  {
   "cell_type": "code",
   "execution_count": 126,
   "metadata": {},
   "outputs": [
    {
     "data": {
      "text/html": [
       "<div>\n",
       "<style scoped>\n",
       "    .dataframe tbody tr th:only-of-type {\n",
       "        vertical-align: middle;\n",
       "    }\n",
       "\n",
       "    .dataframe tbody tr th {\n",
       "        vertical-align: top;\n",
       "    }\n",
       "\n",
       "    .dataframe thead th {\n",
       "        text-align: right;\n",
       "    }\n",
       "</style>\n",
       "<table border=\"1\" class=\"dataframe\">\n",
       "  <thead>\n",
       "    <tr style=\"text-align: right;\">\n",
       "      <th></th>\n",
       "      <th>n</th>\n",
       "      <th>r</th>\n",
       "      <th>CI95%</th>\n",
       "      <th>p-val</th>\n",
       "    </tr>\n",
       "  </thead>\n",
       "  <tbody>\n",
       "    <tr>\n",
       "      <th>pearson</th>\n",
       "      <td>2000</td>\n",
       "      <td>0.023696</td>\n",
       "      <td>[-0.02, 0.07]</td>\n",
       "      <td>0.289625</td>\n",
       "    </tr>\n",
       "  </tbody>\n",
       "</table>\n",
       "</div>"
      ],
      "text/plain": [
       "            n         r          CI95%     p-val\n",
       "pearson  2000  0.023696  [-0.02, 0.07]  0.289625"
      ]
     },
     "execution_count": 126,
     "metadata": {},
     "output_type": "execute_result"
    }
   ],
   "source": [
    "pingouin.partial_corr(compressed_causes,x='Years involved',y='Risk focus',covar='Engagement')"
   ]
  },
  {
   "cell_type": "markdown",
   "metadata": {},
   "source": [
    "With a partial correlation this low, we can't rule out $\\text{Years involved}\\perp \\text{Risk focus} | \\text{Engagement}$, so any of the first three graphs are plausible without modification. That is, engagement seems to mediate the relationship between risk focus and years involved, though we can't necessarily tell which way the relationships run."
   ]
  },
  {
   "cell_type": "markdown",
   "metadata": {},
   "source": [
    "I have a suspicion that we have studenthood and engagement both causing risk focus."
   ]
  },
  {
   "cell_type": "code",
   "execution_count": 127,
   "metadata": {},
   "outputs": [
    {
     "data": {
      "text/html": [
       "<div>\n",
       "<style scoped>\n",
       "    .dataframe tbody tr th:only-of-type {\n",
       "        vertical-align: middle;\n",
       "    }\n",
       "\n",
       "    .dataframe tbody tr th {\n",
       "        vertical-align: top;\n",
       "    }\n",
       "\n",
       "    .dataframe thead th {\n",
       "        text-align: right;\n",
       "    }\n",
       "</style>\n",
       "<table border=\"1\" class=\"dataframe\">\n",
       "  <thead>\n",
       "    <tr style=\"text-align: right;\">\n",
       "      <th></th>\n",
       "      <th>n</th>\n",
       "      <th>r</th>\n",
       "      <th>CI95%</th>\n",
       "      <th>p-val</th>\n",
       "    </tr>\n",
       "  </thead>\n",
       "  <tbody>\n",
       "    <tr>\n",
       "      <th>pearson</th>\n",
       "      <td>2000</td>\n",
       "      <td>0.03012</td>\n",
       "      <td>[-0.01, 0.07]</td>\n",
       "      <td>0.178148</td>\n",
       "    </tr>\n",
       "  </tbody>\n",
       "</table>\n",
       "</div>"
      ],
      "text/plain": [
       "            n        r          CI95%     p-val\n",
       "pearson  2000  0.03012  [-0.01, 0.07]  0.178148"
      ]
     },
     "execution_count": 127,
     "metadata": {},
     "output_type": "execute_result"
    }
   ],
   "source": [
    "pingouin.partial_corr(compressed_causes,x='student',y='Engagement')"
   ]
  },
  {
   "cell_type": "code",
   "execution_count": 128,
   "metadata": {},
   "outputs": [
    {
     "data": {
      "text/html": [
       "<div>\n",
       "<style scoped>\n",
       "    .dataframe tbody tr th:only-of-type {\n",
       "        vertical-align: middle;\n",
       "    }\n",
       "\n",
       "    .dataframe tbody tr th {\n",
       "        vertical-align: top;\n",
       "    }\n",
       "\n",
       "    .dataframe thead th {\n",
       "        text-align: right;\n",
       "    }\n",
       "</style>\n",
       "<table border=\"1\" class=\"dataframe\">\n",
       "  <thead>\n",
       "    <tr style=\"text-align: right;\">\n",
       "      <th></th>\n",
       "      <th>n</th>\n",
       "      <th>r</th>\n",
       "      <th>CI95%</th>\n",
       "      <th>p-val</th>\n",
       "    </tr>\n",
       "  </thead>\n",
       "  <tbody>\n",
       "    <tr>\n",
       "      <th>pearson</th>\n",
       "      <td>2000</td>\n",
       "      <td>-0.099287</td>\n",
       "      <td>[-0.14, -0.06]</td>\n",
       "      <td>0.000009</td>\n",
       "    </tr>\n",
       "  </tbody>\n",
       "</table>\n",
       "</div>"
      ],
      "text/plain": [
       "            n         r           CI95%     p-val\n",
       "pearson  2000 -0.099287  [-0.14, -0.06]  0.000009"
      ]
     },
     "execution_count": 128,
     "metadata": {},
     "output_type": "execute_result"
    }
   ],
   "source": [
    "pingouin.partial_corr(compressed_causes,x='student',y='Engagement',covar='Risk focus')"
   ]
  },
  {
   "cell_type": "markdown",
   "metadata": {},
   "source": [
    "This suggests that our causal graph has some structure like $\\text{student} \\to \\text{Risk focus} \\leftarrow \\text{Engagement}$, which rules out graph (2A)"
   ]
  },
  {
   "cell_type": "markdown",
   "metadata": {},
   "source": [
    "So, from this brief investigation of conditional independences, of the graphs initially proposed the two candidates we are left with are\n",
    "\n",
    "(1+A) $\\text{Years involved} \\leftarrow \\mathrm{Engagement}\\to \\mathrm{Risk focus}$\n",
    "\n",
    "(1+B) $\\text{Years involved} \\rightarrow \\mathrm{Engagement}\\to \\mathrm{Risk focus}$"
   ]
  },
  {
   "cell_type": "markdown",
   "metadata": {},
   "source": [
    "As I said at the outset, I think that the level of engagement is highly likely to lead to people being involved for longer. The "
   ]
  },
  {
   "cell_type": "markdown",
   "metadata": {},
   "source": [
    "I'm pretty unconfident in this conclusion as it relies on not having thought of any other plausible graphs, and also on a bunch of assumptions that imply this method of investigating graphs is meaningful to begin with."
   ]
  },
  {
   "cell_type": "code",
   "execution_count": null,
   "metadata": {},
   "outputs": [],
   "source": []
  }
 ],
 "metadata": {
  "kernelspec": {
   "display_name": "Python 3",
   "language": "python",
   "name": "python3"
  },
  "language_info": {
   "codemirror_mode": {
    "name": "ipython",
    "version": 3
   },
   "file_extension": ".py",
   "mimetype": "text/x-python",
   "name": "python",
   "nbconvert_exporter": "python",
   "pygments_lexer": "ipython3",
   "version": "3.8.10"
  }
 },
 "nbformat": 4,
 "nbformat_minor": 4
}
